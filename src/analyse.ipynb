{
 "cells": [
  {
   "cell_type": "markdown",
   "id": "5528f059",
   "metadata": {},
   "source": [
    "IMPORTATIONS"
   ]
  },
  {
   "cell_type": "code",
   "execution_count": 3,
   "id": "5ab74d84",
   "metadata": {},
   "outputs": [],
   "source": [
    "import pandas as pd\n",
    "import numpy as np\n",
    "from pathlib import Path\n",
    "from sklearn.preprocessing import StandardScaler\n",
    "from scipy.spatial.distance import euclidean"
   ]
  },
  {
   "cell_type": "markdown",
   "id": "ceed4a8b",
   "metadata": {},
   "source": [
    "PARAMÈTRES GÉNÉRAUX"
   ]
  },
  {
   "cell_type": "code",
   "execution_count": 9,
   "id": "f805882b",
   "metadata": {},
   "outputs": [],
   "source": [
    "data_path = Path(\"C:/Users/bfontaine/Downloads/données SAE 4.02\")\n",
    "equip_path = data_path / \"Ensemble-com-2021_csv\""
   ]
  },
  {
   "cell_type": "markdown",
   "id": "64abbcad",
   "metadata": {},
   "source": [
    "IMPORTATIONS"
   ]
  },
  {
   "cell_type": "code",
   "execution_count": 66,
   "id": "e808b55b",
   "metadata": {},
   "outputs": [],
   "source": [
    "df_communes = pd.read_excel(data_path / \"grille_densite_7_niveaux_2024.xlsx\")\n",
    "def charger_equipements(nom_fichier):\n",
    "    df = pd.read_csv(equip_path / nom_fichier, sep=\";\", dtype=str)\n",
    "    \n",
    "    possible_cols = [\"CODGEO\", \"CODG_COM\", \"Code_INSEE\", \"COMMUNE\", \"INSEE\"]\n",
    "    code_col = next((col for col in possible_cols if col in df.columns), None)\n",
    "    \n",
    "    if code_col is None:\n",
    "        raise ValueError(f\"Aucune colonne de code INSEE trouvée dans {nom_fichier}\")\n",
    "    \n",
    "    return df.groupby(code_col).size().rename(nom_fichier)\n"
   ]
  },
  {
   "cell_type": "markdown",
   "id": "563f9a7c",
   "metadata": {},
   "source": [
    "TRAITEMENTS COMMUNES"
   ]
  },
  {
   "cell_type": "code",
   "execution_count": 72,
   "id": "709fa03b",
   "metadata": {},
   "outputs": [],
   "source": [
    "#filtrer les communes entre 10 et 20k habitants\n",
    "df_communes = df_communes[(df_communes[\"PMUN21\"] >= 10000) & (df_communes[\"PMUN21\"] <= 20000)]\n",
    "\n",
    "#on séléctionne les colonnes qu'on veut\n",
    "df_base = df_communes[[\"CODGEO\", \"LIBGEO\", \"PMUN21\", \"DENS\"]].copy()\n",
    "df_base.columns = [\"CODGEO\", \"LIBGEO\", \"PMUN21\", \"DENS\"]\n"
   ]
  },
  {
   "cell_type": "markdown",
   "id": "c5b3c896",
   "metadata": {},
   "source": [
    "DICTIONNAIRE CONTENANT LES FICHIERS PAR DOMAINE"
   ]
  },
  {
   "cell_type": "code",
   "execution_count": 73,
   "id": "68b4809c",
   "metadata": {},
   "outputs": [],
   "source": [
    "fichiers_equipements = {\n",
    "    \"Nb_Equip_Santé\": [\n",
    "        \"equip-serv-sante-com-2021.csv\",\n",
    "        \"equip-serv-medical-para-com-2021.csv\"\n",
    "    ],\n",
    "    \"Nb_Equip_Education\": [\n",
    "        \"equip-serv-ens-1er-degre-com-2021.csv\",\n",
    "        \"equip-serv-ens-2eme-degre-com-2021.csv\",\n",
    "        \"equip-serv-ens-sup-form-serv-com-2021.csv\"\n",
    "    ],\n",
    "    \"Nb_Equip_Sport_Loisir\": [\"equip-sport-loisir-socio-com-2021.csv\"],\n",
    "    \"Nb_Equip_Culture\": [\"equip-sport-loisir-socio-com-2021.csv\"],\n",
    "    \"Nb_Equip_Services\": [\"equip-serv-particuliers-com-2021.csv\"],\n",
    "    \"Nb_Equip_Commerce\": [\"equip-serv-commerce-com-2021.csv\"],\n",
    "    \"Nb_Equip_Transport\": [\"equip-tour-transp-com-2021.csv\"],\n",
    "    \"Nb_Equip_Social\": [\"equip-serv-action-sociale-com-2021.csv\"]\n",
    "}\n"
   ]
  },
  {
   "cell_type": "markdown",
   "id": "9dddac18",
   "metadata": {},
   "source": [
    "CALCULER LES EQUIPEMENTS PAR DOMAINE"
   ]
  },
  {
   "cell_type": "code",
   "execution_count": null,
   "id": "24a14d2a",
   "metadata": {},
   "outputs": [],
   "source": [
    "#mise en place index\n",
    "df_base = df_base.set_index(\"CODGEO\")\n",
    "df_equipements = pd.DataFrame(index=df_base.index)\n",
    "\n",
    "#boucle pour chaque domaine\n",
    "for domaine, fichiers in fichiers_equipements.items():\n",
    "    equip_series = [charger_equipements(fichier) for fichier in fichiers]\n",
    "    total = pd.concat(equip_series, axis=1).sum(axis=1)\n",
    "    df_equipements[domaine] = total\n",
    "\n",
    "#remplir les colonnes vide par 0\n",
    "df_equipements = df_equipements.fillna(0)"
   ]
  },
  {
   "cell_type": "markdown",
   "id": "389c22c4",
   "metadata": {},
   "source": [
    "FUSION AVEC LA BASE PRINCIPALE"
   ]
  },
  {
   "cell_type": "code",
   "execution_count": 75,
   "id": "1d252c51",
   "metadata": {},
   "outputs": [],
   "source": [
    "df_base = df_base.merge(df_equipements, left_index=True, right_index=True, how=\"left\")\n",
    "df_base = df_base.fillna(0)"
   ]
  },
  {
   "cell_type": "markdown",
   "id": "c0a623bb",
   "metadata": {},
   "source": [
    "CALCUL DES RATIOS PAR HABITANTS"
   ]
  },
  {
   "cell_type": "code",
   "execution_count": 80,
   "id": "676e9f10",
   "metadata": {},
   "outputs": [
    {
     "name": "stdout",
     "output_type": "stream",
     "text": [
      "Index(['LIBGEO', 'PMUN21', 'DENS', 'Nb_Equip_Santé_x', 'Nb_Equip_Education_x',\n",
      "       'Nb_Equip_Sport_Loisir_x', 'Nb_Equip_Culture_x', 'Nb_Equip_Services_x',\n",
      "       'Nb_Equip_Commerce_x', 'Nb_Equip_Transport_x', 'Nb_Equip_Social_x',\n",
      "       'Nb_Equip_Santé_y', 'Nb_Equip_Education_y', 'Nb_Equip_Sport_Loisir_y',\n",
      "       'Nb_Equip_Culture_y', 'Nb_Equip_Services_y', 'Nb_Equip_Commerce_y',\n",
      "       'Nb_Equip_Transport_y', 'Nb_Equip_Social_y',\n",
      "       'Nb_Equip_Santé_x_par_1000h', 'Nb_Equip_Education_x_par_1000h',\n",
      "       'Nb_Equip_Sport_Loisir_x_par_1000h', 'Nb_Equip_Culture_x_par_1000h',\n",
      "       'Nb_Equip_Services_x_par_1000h', 'Nb_Equip_Commerce_x_par_1000h',\n",
      "       'Nb_Equip_Transport_x_par_1000h', 'Nb_Equip_Social_x_par_1000h',\n",
      "       'Nb_Equip_Santé_y_par_1000h', 'Nb_Equip_Education_y_par_1000h',\n",
      "       'Nb_Equip_Sport_Loisir_y_par_1000h', 'Nb_Equip_Culture_y_par_1000h',\n",
      "       'Nb_Equip_Services_y_par_1000h', 'Nb_Equip_Commerce_y_par_1000h',\n",
      "       'Nb_Equip_Transport_y_par_1000h', 'Nb_Equip_Social_y_par_1000h',\n",
      "       'Equip_Totaux', 'Equip_Total_par_1000h'],\n",
      "      dtype='object')\n"
     ]
    }
   ],
   "source": [
    "print(df_base.columns)\n",
    "domaines = [col for col in df_base.columns if col.startswith(\"Nb_Equip_\")]\n",
    "for domaine in domaines:\n",
    "    df_base[f\"{domaine}_par_1000h\"] = df_base[domaine] / df_base[\"PMUN21\"] * 1000"
   ]
  },
  {
   "cell_type": "markdown",
   "id": "0fcb5163",
   "metadata": {},
   "source": [
    "INDICATEURS SYNTHESES ET DESEQUILIBRES"
   ]
  },
  {
   "cell_type": "code",
   "execution_count": 82,
   "id": "17770229",
   "metadata": {},
   "outputs": [],
   "source": [
    "df_base[\"Equip_Totaux\"] = df_base[domaines].sum(axis=1)\n",
    "df_base[\"Equip_Total_par_1000h\"] = df_base[\"Equip_Totaux\"] / df_base[\"PMUN21\"] * 1000\n",
    "df_base[\"Ratio_Education_Santé\"] = df_base[\"Nb_Equip_Education_x\"] / df_base[\"Nb_Equip_Santé_y\"].replace(0, np.nan)\n",
    "df_base[\"Ratio_Sport_Culture\"] = df_base[\"Nb_Equip_Sport_Loisir_y\"] / df_base[\"Nb_Equip_Culture_y\"].replace(0, np.nan)\n",
    "df_base[\"Ecart_Max_Min\"] = df_base[domaines].max(axis=1) - df_base[domaines].min(axis=1)\n",
    "df_base[\"Diversité_Equipements\"] = (df_base[domaines] > 0).sum(axis=1)"
   ]
  },
  {
   "cell_type": "markdown",
   "id": "df16c59f",
   "metadata": {},
   "source": [
    "EXPORT"
   ]
  },
  {
   "cell_type": "code",
   "execution_count": 84,
   "id": "e4611a41",
   "metadata": {},
   "outputs": [],
   "source": [
    "df_base.to_csv(\"C:/Users/bfontaine/Downloads/données SAE 4.02/base_communes_SAE402.csv\", index=False, encoding=\"utf-8-sig\")"
   ]
  }
 ],
 "metadata": {
  "kernelspec": {
   "display_name": "Python 3",
   "language": "python",
   "name": "python3"
  },
  "language_info": {
   "codemirror_mode": {
    "name": "ipython",
    "version": 3
   },
   "file_extension": ".py",
   "mimetype": "text/x-python",
   "name": "python",
   "nbconvert_exporter": "python",
   "pygments_lexer": "ipython3",
   "version": "3.11.4"
  }
 },
 "nbformat": 4,
 "nbformat_minor": 5
}
