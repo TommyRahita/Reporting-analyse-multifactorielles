{
 "cells": [
  {
   "cell_type": "code",
   "execution_count": null,
   "id": "e12937a4",
   "metadata": {},
   "outputs": [],
   "source": [
    "import pandas as pd\n",
    "import plotly.express as px\n",
    "\n",
    "# Charger la base santé\n",
    "df = pd.read_csv(\"BASE_FINAL.csv\")\n",
    "\n",
    "# Aperçu\n",
    "df.head()\n",
    "\n",
    "# Statistiques descriptives globales\n",
    "df.describe()\n",
    "\n",
    "# Boxplot équipements santé par densité\n",
    "fig = px.box(df, x=\"Densité_INSEE\", y=\"Equip_Santé_par_1000h\",\n",
    "             points=\"all\", title=\"Équipements santé pour 1000 habitants par densité\")\n",
    "fig.show()\n",
    "\n",
    "# Histogramme diversité\n",
    "fig2 = px.histogram(df, x=\"Diversité_Equipements\", nbins=10,\n",
    "                    title=\"Distribution de la diversité des équipements de santé\")\n",
    "fig2.show()\n",
    "\n",
    "# Communes sous-dotées (top 10)\n",
    "df.sort_values(by=\"Equip_Santé_par_1000h\").head(10)\n"
   ]
  }
 ],
 "metadata": {
  "kernelspec": {
   "display_name": "Python 3",
   "language": "python",
   "name": "python3"
  },
  "language_info": {
   "codemirror_mode": {
    "name": "ipython",
    "version": 3
   },
   "file_extension": ".py",
   "mimetype": "text/x-python",
   "name": "python",
   "nbconvert_exporter": "python",
   "pygments_lexer": "ipython3",
   "version": "3.11.4"
  }
 },
 "nbformat": 4,
 "nbformat_minor": 5
}
